{
 "cells": [
  {
   "cell_type": "code",
   "execution_count": 1,
   "metadata": {},
   "outputs": [],
   "source": [
    "import zipfile\n",
    "import pandas as pd\n",
    "import os\n",
    "import glob"
   ]
  },
  {
   "cell_type": "code",
   "execution_count": 2,
   "metadata": {},
   "outputs": [],
   "source": [
    "# Import London postcodes\n",
    "\n",
    "full_postalcode_info = pd.read_csv('C:/users/muize/Downloads/london_postcodes-ons-postcodes-directory-feb22.csv')\n",
    "full_postalcode_info['pcd'] = full_postalcode_info['pcd'].str.replace(' ', '')"
   ]
  },
  {
   "cell_type": "code",
   "execution_count": 15,
   "metadata": {},
   "outputs": [],
   "source": [
    "# Gather all london antidepressant prescriptions\n",
    "\n",
    "def zip_to_csv(zip_path, pres_csv_path, prac_csv_path, save_path, full_postalcode_info, extra_column=False):\n",
    "    column_names = [\"PERIOD\", \"PracticeName\", \"Address1\",\n",
    "        \"Address2\", \"Address3\", \"Address4\", \"Postcode\", \"0\"]\n",
    "    if extra_column:\n",
    "        column_names = [\"PERIOD\", \"PracticeName\", \"Address1\",\n",
    "            \"Address2\", \"Address3\", \"Address4\", \"Address5\", \"Postcode\", \"0\"]\n",
    "    archive = zipfile.ZipFile(zip_path, 'r')\n",
    "    pres_csv = pd.read_csv(archive.open(pres_csv_path))\n",
    "    prac_csv = pd.read_csv(archive.open(prac_csv_path), names=column_names, index_col=1).drop(['0'], axis=1)\n",
    "    prac_csv['Postcode'] = prac_csv['Postcode'].str.replace(' ', '')\n",
    "    prac_csv.to_csv('prac_test.csv')\n",
    "    prac_london = prac_csv[prac_csv['Postcode'].isin(list(full_postalcode_info['pcd']))]\n",
    "    pres_london = pres_csv[pres_csv['PRACTICE'].isin(list(prac_london.index))]\n",
    "    pres_london = pres_london.merge(prac_london['Postcode'], how='left', left_on='PRACTICE', right_index=True)\n",
    "    pres_london_antidepressants = pres_london[pres_london['BNF CODE'].str.startswith('0403', na=False)]\n",
    "    pres_london_antidepressants.to_csv(save_path)"
   ]
  },
  {
   "cell_type": "code",
   "execution_count": 16,
   "metadata": {},
   "outputs": [],
   "source": [
    "zip_to_csv('C:/users/muize/Downloads/2011 01 Jan.zip', 'T201101PDPI BNFT.CSV', 'T201101ADDR BNFT.CSV', \n",
    "    'prescriptions/2011/jan2011_antidepressants.csv', full_postalcode_info)"
   ]
  },
  {
   "cell_type": "code",
   "execution_count": 88,
   "metadata": {},
   "outputs": [],
   "source": [
    "zip_to_csv('C:/users/muize/Downloads/2011 02 Feb.zip', 'T201102PDPI BNFT.CSV', 'T201102ADDR BNFT.CSV', \n",
    "    'prescriptions/2011/feb2011_antidepressants.csv', full_postalcode_info)"
   ]
  },
  {
   "cell_type": "code",
   "execution_count": 89,
   "metadata": {},
   "outputs": [],
   "source": [
    "zip_to_csv('C:/users/muize/Downloads/2011 03 Mar.zip', 'T201103PDPI BNFT.CSV', 'T201103ADDR BNFT.CSV', \n",
    "    'prescriptions/2011/mar2011_antidepressants.csv', full_postalcode_info)"
   ]
  },
  {
   "cell_type": "code",
   "execution_count": 36,
   "metadata": {},
   "outputs": [],
   "source": [
    "zip_to_csv('C:/users/muize/Downloads/2011 04 Apr.zip', 'T201104PDPI BNFT.CSV', 'T201104ADDR BNFT.CSV', \n",
    "    'prescriptions/2011/apr2011_antidepressants.csv', full_postalcode_info)"
   ]
  },
  {
   "cell_type": "code",
   "execution_count": 90,
   "metadata": {},
   "outputs": [],
   "source": [
    "zip_to_csv('C:/users/muize/Downloads/2011 05 May.zip', 'T201105PDPI BNFT.CSV', 'T201105ADDR BNFT.CSV', \n",
    "    'prescriptions/2011/may2011_antidepressants.csv', full_postalcode_info)"
   ]
  },
  {
   "cell_type": "code",
   "execution_count": 91,
   "metadata": {},
   "outputs": [],
   "source": [
    "zip_to_csv('C:/users/muize/Downloads/2011 06 Jun.zip', 'T201106PDPI BNFT.CSV', 'T201106ADDR BNFT.CSV', \n",
    "    'prescriptions/2011/jun2011_antidepressants.csv', full_postalcode_info)"
   ]
  },
  {
   "cell_type": "code",
   "execution_count": 92,
   "metadata": {},
   "outputs": [],
   "source": [
    "zip_to_csv('C:/users/muize/Downloads/2011 07 Jul.zip', 'T201107PDPI BNFT.CSV', 'T201107ADDR BNFT.CSV', \n",
    "    'prescriptions/2011/jul2011_antidepressants.csv', full_postalcode_info)"
   ]
  },
  {
   "cell_type": "code",
   "execution_count": 93,
   "metadata": {},
   "outputs": [],
   "source": [
    "zip_to_csv('C:/users/muize/Downloads/2011 08 Aug.zip', 'T201108PDPI BNFT.CSV', 'T201108ADDR BNFT.CSV', \n",
    "    'prescriptions/2011/aug2011_antidepressants.csv', full_postalcode_info)"
   ]
  },
  {
   "cell_type": "code",
   "execution_count": 94,
   "metadata": {},
   "outputs": [],
   "source": [
    "zip_to_csv('C:/users/muize/Downloads/2011 09 Sep.zip', 'T201109PDPI BNFT.CSV', 'T201109ADDR BNFT.CSV', \n",
    "    'prescriptions/2011/sep2011_antidepressants.csv', full_postalcode_info)"
   ]
  },
  {
   "cell_type": "code",
   "execution_count": 96,
   "metadata": {},
   "outputs": [],
   "source": [
    "zip_to_csv('C:/users/muize/Downloads/2011 10 Oct.zip', 'T201110PDPI BNFT.CSV', 'T201110ADDR BNFT.CSV', \n",
    "    'prescriptions/2011/oct2011_antidepressants.csv', full_postalcode_info)"
   ]
  },
  {
   "cell_type": "code",
   "execution_count": 97,
   "metadata": {},
   "outputs": [],
   "source": [
    "zip_to_csv('C:/users/muize/Downloads/2011 11 Nov.zip', 'T201111PDPI BNFT.CSV', 'T201111ADDR BNFT.CSV', \n",
    "    'prescriptions/2011/nov2011_antidepressants.csv', full_postalcode_info)"
   ]
  },
  {
   "cell_type": "code",
   "execution_count": 98,
   "metadata": {},
   "outputs": [],
   "source": [
    "zip_to_csv('C:/users/muize/Downloads/2011 12 Dec.zip', 'T201112PDPI BNFT.CSV', 'T201112ADDR BNFT.CSV', \n",
    "    'prescriptions/2011/dec2011_antidepressants.csv', full_postalcode_info)"
   ]
  },
  {
   "cell_type": "code",
   "execution_count": 99,
   "metadata": {},
   "outputs": [],
   "source": [
    "zip_to_csv('C:/users/muize/Downloads/2012 01 Jan.zip', 'T201201PDPI BNFT.CSV', 'T201201ADDR BNFT.CSV', \n",
    "    'prescriptions/2012/jan2012_antidepressants.csv', full_postalcode_info)"
   ]
  },
  {
   "cell_type": "code",
   "execution_count": 100,
   "metadata": {},
   "outputs": [],
   "source": [
    "zip_to_csv('C:/users/muize/Downloads/2012 02 Feb.zip', 'T201202PDPI BNFT.CSV', 'T201202ADDR BNFT.CSV', \n",
    "    'prescriptions/2012/feb2012_antidepressants.csv', full_postalcode_info)"
   ]
  },
  {
   "cell_type": "code",
   "execution_count": 101,
   "metadata": {},
   "outputs": [],
   "source": [
    "zip_to_csv('C:/users/muize/Downloads/2012 03 Mar.zip', 'T201203PDPI BNFT.CSV', 'T201203ADDR BNFT.CSv', \n",
    "    'prescriptions/2012/mar2012_antidepressants.csv', full_postalcode_info)"
   ]
  },
  {
   "cell_type": "code",
   "execution_count": 102,
   "metadata": {},
   "outputs": [],
   "source": [
    "zip_to_csv('C:/users/muize/Downloads/2012 04 Apr.zip', 'T201204PDPI BNFT.CSV', 'T201204ADDR BNFT.CSV', \n",
    "    'prescriptions/2012/apr2012_antidepressants.csv', full_postalcode_info)"
   ]
  },
  {
   "cell_type": "code",
   "execution_count": 103,
   "metadata": {},
   "outputs": [],
   "source": [
    "zip_to_csv('C:/users/muize/Downloads/2012 05 May.zip', 'T201205PDPI BNFT.CSV', 'T201205ADDR BNFT.CSV', \n",
    "    'prescriptions/2012/may2012_antidepressants.csv', full_postalcode_info)"
   ]
  },
  {
   "cell_type": "code",
   "execution_count": 17,
   "metadata": {},
   "outputs": [],
   "source": [
    "zip_to_csv('C:/users/muize/Downloads/2014 06 June.zip', 'T201406PDPI BNFT.CSV', 'T201406ADDR BNFT.CSV', \n",
    "    'prescriptions/2012/jun2012_antidepressants.csv', full_postalcode_info, extra_column=True)"
   ]
  },
  {
   "cell_type": "code",
   "execution_count": 107,
   "metadata": {},
   "outputs": [],
   "source": [
    "zip_to_csv('C:/users/muize/Downloads/2012 07 Jul.zip', 'T201207PDPI BNFT.CSV', 'T201207ADDR BNFT.CSV', \n",
    "    'prescriptions/2012/jul2012_antidepressants.csv', full_postalcode_info)"
   ]
  },
  {
   "cell_type": "code",
   "execution_count": 18,
   "metadata": {},
   "outputs": [],
   "source": [
    "zip_to_csv('C:/users/muize/Downloads/2012 08 Aug.zip', 'T201208PDPI BNFT.CSV', 'T201208ADDR BNFT.CSV', \n",
    "    'prescriptions/2012/aug2012_antidepressants.csv', full_postalcode_info, extra_column=True)"
   ]
  },
  {
   "cell_type": "code",
   "execution_count": 19,
   "metadata": {},
   "outputs": [],
   "source": [
    "zip_to_csv('C:/users/muize/Downloads/2012 09 Sep.zip', 'T201209PDPI BNFT.CSV', 'T201209ADDR BNFT.CSV', \n",
    "    'prescriptions/2012/sep2012_antidepressants.csv', full_postalcode_info, extra_column=True)"
   ]
  },
  {
   "cell_type": "code",
   "execution_count": 20,
   "metadata": {},
   "outputs": [],
   "source": [
    "zip_to_csv('C:/users/muize/Downloads/2012 10 Oct.zip', 'T201210PDPI BNFT.CSV', 'T201210ADDR BNFT.CSV', \n",
    "    'prescriptions/2012/oct2012_antidepressants.csv', full_postalcode_info, extra_column=True)"
   ]
  },
  {
   "cell_type": "code",
   "execution_count": 21,
   "metadata": {},
   "outputs": [],
   "source": [
    "zip_to_csv('C:/users/muize/Downloads/2012 11 Nov.zip', 'T201211PDPI BNFT.CSV', 'T201211ADDR BNFT.CSV', \n",
    "    'prescriptions/2012/nov2012_antidepressants.csv', full_postalcode_info, extra_column=True)"
   ]
  },
  {
   "cell_type": "code",
   "execution_count": 22,
   "metadata": {},
   "outputs": [],
   "source": [
    "zip_to_csv('C:/users/muize/Downloads/2012 12 Dec.zip', 'T201212PDPI BNFT.CSV', 'T201212ADDR BNFT.CSV', \n",
    "    'prescriptions/2012/dec2012_antidepressants.csv', full_postalcode_info, extra_column=True)"
   ]
  },
  {
   "cell_type": "code",
   "execution_count": 24,
   "metadata": {},
   "outputs": [],
   "source": [
    "zip_to_csv('C:/users/muize/Downloads/2013 01 Jan.zip', 'T201301PDPI BNFT.CSV', 'T201301ADDR BNFT.CSV', \n",
    "    'prescriptions/2013/jan2013_antidepressants.csv', full_postalcode_info, extra_column=True)"
   ]
  },
  {
   "cell_type": "code",
   "execution_count": 23,
   "metadata": {},
   "outputs": [],
   "source": [
    "zip_to_csv('C:/users/muize/Downloads/2013 02 Feb.zip', 'T201302PDPI BNFT.CSV', 'T201302ADDR BNFT.CSV', \n",
    "    'prescriptions/2013/feb2013_antidepressants.csv', full_postalcode_info, extra_column=True)"
   ]
  },
  {
   "cell_type": "code",
   "execution_count": 25,
   "metadata": {},
   "outputs": [],
   "source": [
    "zip_to_csv('C:/users/muize/Downloads/2013 03 Mar.zip', 'T201303PDPI BNFT.csv', 'T201303ADDR BNFT.csv', \n",
    "    'prescriptions/2013/mar2013_antidepressants.csv', full_postalcode_info, extra_column=True)"
   ]
  },
  {
   "cell_type": "code",
   "execution_count": 26,
   "metadata": {},
   "outputs": [],
   "source": [
    "zip_to_csv('C:/users/muize/Downloads/2013 04 Apr.zip', 'T201304PDPI BNFT.CSV', 'T201304ADDR BNFT.CSV', \n",
    "    'prescriptions/2013/apr2013_antidepressants.csv', full_postalcode_info, extra_column=True)"
   ]
  },
  {
   "cell_type": "code",
   "execution_count": 27,
   "metadata": {},
   "outputs": [],
   "source": [
    "zip_to_csv('C:/users/muize/Downloads/2013 05 May.zip', 'T201305PDPI BNFT.CSV', 'T201305ADDR BNFT.CSV', \n",
    "    'prescriptions/2013/may2013_antidepressants.csv', full_postalcode_info, extra_column=True)"
   ]
  },
  {
   "cell_type": "code",
   "execution_count": 28,
   "metadata": {},
   "outputs": [],
   "source": [
    "zip_to_csv('C:/users/muize/Downloads/2013 06 June.zip', 'T201306PDPI BNFT.csv', 'T201306ADDR BNFT.csv', \n",
    "    'prescriptions/2013/jun2013_antidepressants.csv', full_postalcode_info, extra_column=True)"
   ]
  },
  {
   "cell_type": "code",
   "execution_count": 29,
   "metadata": {},
   "outputs": [],
   "source": [
    "zip_to_csv('C:/users/muize/Downloads/2013 07 July.zip', 'T201307PDPI BNFT.CSV', 'T201307ADDR BNFT.CSV', \n",
    "    'prescriptions/2013/jul2013_antidepressants.csv', full_postalcode_info, extra_column=True)"
   ]
  },
  {
   "cell_type": "code",
   "execution_count": 30,
   "metadata": {},
   "outputs": [],
   "source": [
    "zip_to_csv('C:/users/muize/Downloads/2013 08 August.zip', 'T201308PDPI BNFT.CSV', 'T201308ADDR BNFT.CSV', \n",
    "    'prescriptions/2013/aug2013_antidepressants.csv', full_postalcode_info, extra_column=True)"
   ]
  },
  {
   "cell_type": "code",
   "execution_count": 31,
   "metadata": {},
   "outputs": [],
   "source": [
    "zip_to_csv('C:/users/muize/Downloads/2013 09 Sep.zip', 'T201309PDPI BNFT.csv', 'T201309ADDR BNFT.csv', \n",
    "    'prescriptions/2013/sep2013_antidepressants.csv', full_postalcode_info, extra_column=True)"
   ]
  },
  {
   "cell_type": "code",
   "execution_count": 32,
   "metadata": {},
   "outputs": [],
   "source": [
    "zip_to_csv('C:/users/muize/Downloads/2013 10 Oct.zip', 'T201310PDPI BNFT.CSV', 'T201310ADDR BNFT.CSV', \n",
    "    'prescriptions/2013/oct2013_antidepressants.csv', full_postalcode_info, extra_column=True)"
   ]
  },
  {
   "cell_type": "code",
   "execution_count": 33,
   "metadata": {},
   "outputs": [],
   "source": [
    "zip_to_csv('C:/users/muize/Downloads/2013 11 Nov.zip', 'T201311PDPI BNFT.CSV', 'T201311ADDR BNFT.CSV', \n",
    "    'prescriptions/2013/nov2013_antidepressants.csv', full_postalcode_info, extra_column=True)"
   ]
  },
  {
   "cell_type": "code",
   "execution_count": 34,
   "metadata": {},
   "outputs": [],
   "source": [
    "zip_to_csv('C:/users/muize/Downloads/2013 12 Dec.zip', 'T201312PDPI BNFT.CSV', 'T201312ADDR BNFT.CSV', \n",
    "    'prescriptions/2013/dec2013_antidepressants.csv', full_postalcode_info, extra_column=True)"
   ]
  },
  {
   "cell_type": "code",
   "execution_count": 3,
   "metadata": {},
   "outputs": [],
   "source": [
    "# Combine yearly data\n",
    "\n",
    "def combine_save_csv_files_in_folder(input_folder_path, output_file_path):\n",
    "    extension = 'csv'\n",
    "    all_filenames = [i for i in glob.glob(input_folder_path + '/*.{}'.format(extension))]\n",
    "    combined_csv = pd.concat([pd.read_csv(f) for f in all_filenames ])\n",
    "    combined_csv.to_csv(os.path.join(input_folder_path, output_file_path), index=False, encoding='utf-8-sig')\n",
    "\n",
    "combine_save_csv_files_in_folder('prescriptions/2011', '2011.csv')\n",
    "combine_save_csv_files_in_folder('prescriptions/2012', '2012.csv')\n",
    "combine_save_csv_files_in_folder('prescriptions/2013', '2013.csv')"
   ]
  }
 ],
 "metadata": {
  "kernelspec": {
   "display_name": "Python 3",
   "language": "python",
   "name": "python3"
  },
  "language_info": {
   "codemirror_mode": {
    "name": "ipython",
    "version": 3
   },
   "file_extension": ".py",
   "mimetype": "text/x-python",
   "name": "python",
   "nbconvert_exporter": "python",
   "pygments_lexer": "ipython3",
   "version": "3.10.4"
  },
  "orig_nbformat": 4,
  "vscode": {
   "interpreter": {
    "hash": "369f2c481f4da34e4445cda3fffd2e751bd1c4d706f27375911949ba6bb62e1c"
   }
  }
 },
 "nbformat": 4,
 "nbformat_minor": 2
}
