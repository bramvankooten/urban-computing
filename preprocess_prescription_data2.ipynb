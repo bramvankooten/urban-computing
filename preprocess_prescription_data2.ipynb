{
 "cells": [
  {
   "cell_type": "code",
   "execution_count": 1,
   "metadata": {},
   "outputs": [],
   "source": [
    "import zipfile\n",
    "import pandas as pd"
   ]
  },
  {
   "cell_type": "code",
   "execution_count": 79,
   "metadata": {},
   "outputs": [
    {
     "name": "stdout",
     "output_type": "stream",
     "text": [
      "['T201101ADDR BNFT.CSV', 'T201101CHEM SUBS.CSV', 'T201101PDPI BNFT.CSV']\n"
     ]
    }
   ],
   "source": [
    "archive = zipfile.ZipFile('C:/users/muize/Downloads/2011 01 Jan.zip', 'r')\n",
    "print (archive.namelist())\n",
    "jan_2011_pres = pd.read_csv(archive.open('T201101PDPI BNFT.CSV'))\n",
    "jan_2011_prac = pd.read_csv(archive.open('T201101ADDR BNFT.CSV'), names=[\"PERIOD\", \"PracticeName\", \"Address1\",\n",
    "    \"Address2\", \"Address3\", \"Address4\", \"Postcode\", \"0\"], index_col=1).drop(['0'], axis=1)"
   ]
  },
  {
   "cell_type": "code",
   "execution_count": 50,
   "metadata": {},
   "outputs": [],
   "source": [
    "jan_2011_prac_london = jan_2011_prac[(jan_2011_prac['Address2'] == 'LONDON                   ') | (jan_2011_prac['Address3'] == 'LONDON                   ') |\n",
    "    (jan_2011_prac['Address4'] == 'LONDON                   ')]"
   ]
  },
  {
   "cell_type": "code",
   "execution_count": 51,
   "metadata": {},
   "outputs": [
    {
     "data": {
      "text/html": [
       "<div>\n",
       "<style scoped>\n",
       "    .dataframe tbody tr th:only-of-type {\n",
       "        vertical-align: middle;\n",
       "    }\n",
       "\n",
       "    .dataframe tbody tr th {\n",
       "        vertical-align: top;\n",
       "    }\n",
       "\n",
       "    .dataframe thead th {\n",
       "        text-align: right;\n",
       "    }\n",
       "</style>\n",
       "<table border=\"1\" class=\"dataframe\">\n",
       "  <thead>\n",
       "    <tr style=\"text-align: right;\">\n",
       "      <th></th>\n",
       "      <th>PERIOD</th>\n",
       "      <th>PracticeName</th>\n",
       "      <th>Address1</th>\n",
       "      <th>Address2</th>\n",
       "      <th>Address3</th>\n",
       "      <th>Address4</th>\n",
       "      <th>Postcode</th>\n",
       "    </tr>\n",
       "  </thead>\n",
       "  <tbody>\n",
       "    <tr>\n",
       "      <th>E83003</th>\n",
       "      <td>201101</td>\n",
       "      <td>OAKLEIGH ROAD HEALTH CENTRE</td>\n",
       "      <td>OAKLEIGH ROAD HEALTH CTR</td>\n",
       "      <td>280 OAKLEIGH ROAD NORTH</td>\n",
       "      <td>WHETSTONE</td>\n",
       "      <td>LONDON</td>\n",
       "      <td>N20 0DH</td>\n",
       "    </tr>\n",
       "    <tr>\n",
       "      <th>E83005</th>\n",
       "      <td>201101</td>\n",
       "      <td>DURDEN NP-THE SURGERY</td>\n",
       "      <td>64 LICHFIELD GROVE</td>\n",
       "      <td></td>\n",
       "      <td>FINCHLEY</td>\n",
       "      <td>LONDON</td>\n",
       "      <td>N3 2JP</td>\n",
       "    </tr>\n",
       "    <tr>\n",
       "      <th>E83006</th>\n",
       "      <td>201101</td>\n",
       "      <td>GREENFIELD MEDICAL CENTRE</td>\n",
       "      <td>GREENFIELD MEDICAL CENTRE</td>\n",
       "      <td>143-145 CRICKLEWOOD LANE</td>\n",
       "      <td>LONDON</td>\n",
       "      <td></td>\n",
       "      <td>NW2 1HS</td>\n",
       "    </tr>\n",
       "    <tr>\n",
       "      <th>E83007</th>\n",
       "      <td>201101</td>\n",
       "      <td>SQUIRES LANE MEDICAL PRACTICE</td>\n",
       "      <td>2 SQUIRES LANE</td>\n",
       "      <td></td>\n",
       "      <td>FINCHLEY</td>\n",
       "      <td>LONDON</td>\n",
       "      <td>N3 2AU</td>\n",
       "    </tr>\n",
       "    <tr>\n",
       "      <th>E83008</th>\n",
       "      <td>201101</td>\n",
       "      <td>HEATHFIELDE MEDICAL CENTRE</td>\n",
       "      <td>HEATHFIELDE MEDICAL CTRE</td>\n",
       "      <td>8 LYTTELTON ROAD</td>\n",
       "      <td>HAMPSTEAD GARDENS SUBURB</td>\n",
       "      <td>LONDON</td>\n",
       "      <td>N2 0EQ</td>\n",
       "    </tr>\n",
       "    <tr>\n",
       "      <th>...</th>\n",
       "      <td>...</td>\n",
       "      <td>...</td>\n",
       "      <td>...</td>\n",
       "      <td>...</td>\n",
       "      <td>...</td>\n",
       "      <td>...</td>\n",
       "      <td>...</td>\n",
       "    </tr>\n",
       "    <tr>\n",
       "      <th>Y03201</th>\n",
       "      <td>201101</td>\n",
       "      <td>WALDRON - HURLEY UNREGISTERED PRACTICE</td>\n",
       "      <td>WALDRON HEALTH CENTRE</td>\n",
       "      <td>STANLEY STREET</td>\n",
       "      <td></td>\n",
       "      <td>LONDON</td>\n",
       "      <td>SE8 4BG</td>\n",
       "    </tr>\n",
       "    <tr>\n",
       "      <th>Y03211</th>\n",
       "      <td>201101</td>\n",
       "      <td>TURNING POINT</td>\n",
       "      <td>31 WARDOUR STREET</td>\n",
       "      <td></td>\n",
       "      <td>SOHO</td>\n",
       "      <td>LONDON</td>\n",
       "      <td>W1D 6PT</td>\n",
       "    </tr>\n",
       "    <tr>\n",
       "      <th>Y03243</th>\n",
       "      <td>201101</td>\n",
       "      <td>CSS GYNAECOLOGY SERVICE</td>\n",
       "      <td>CHINGWAY MEDICAL CENTRE</td>\n",
       "      <td>7 CHING WAY</td>\n",
       "      <td>CHINGFORD</td>\n",
       "      <td>LONDON</td>\n",
       "      <td>E4 8YD</td>\n",
       "    </tr>\n",
       "    <tr>\n",
       "      <th>Y03245</th>\n",
       "      <td>201101</td>\n",
       "      <td>CSS ENT SERVICE 1</td>\n",
       "      <td>OLIVER RD CLINIC</td>\n",
       "      <td>75 OLIVER ROAD</td>\n",
       "      <td>LEYTON</td>\n",
       "      <td>LONDON</td>\n",
       "      <td>E10 5LG</td>\n",
       "    </tr>\n",
       "    <tr>\n",
       "      <th>Y03259</th>\n",
       "      <td>201101</td>\n",
       "      <td>GRABADOC OOH</td>\n",
       "      <td>394 SHOOTERS HILL ROAD</td>\n",
       "      <td></td>\n",
       "      <td>WOOLWICH</td>\n",
       "      <td>LONDON</td>\n",
       "      <td>SE18 4LP</td>\n",
       "    </tr>\n",
       "  </tbody>\n",
       "</table>\n",
       "<p>988 rows × 7 columns</p>\n",
       "</div>"
      ],
      "text/plain": [
       "        PERIOD                              PracticeName  \\\n",
       "E83003  201101  OAKLEIGH ROAD HEALTH CENTRE                \n",
       "E83005  201101  DURDEN NP-THE SURGERY                      \n",
       "E83006  201101  GREENFIELD MEDICAL CENTRE                  \n",
       "E83007  201101  SQUIRES LANE MEDICAL PRACTICE              \n",
       "E83008  201101  HEATHFIELDE MEDICAL CENTRE                 \n",
       "...        ...                                       ...   \n",
       "Y03201  201101  WALDRON - HURLEY UNREGISTERED PRACTICE     \n",
       "Y03211  201101  TURNING POINT                              \n",
       "Y03243  201101  CSS GYNAECOLOGY SERVICE                    \n",
       "Y03245  201101  CSS ENT SERVICE 1                          \n",
       "Y03259  201101  GRABADOC OOH                               \n",
       "\n",
       "                         Address1                   Address2  \\\n",
       "E83003  OAKLEIGH ROAD HEALTH CTR   280 OAKLEIGH ROAD NORTH     \n",
       "E83005  64 LICHFIELD GROVE                                     \n",
       "E83006  GREENFIELD MEDICAL CENTRE  143-145 CRICKLEWOOD LANE    \n",
       "E83007  2 SQUIRES LANE                                         \n",
       "E83008  HEATHFIELDE MEDICAL CTRE   8 LYTTELTON ROAD            \n",
       "...                           ...                        ...   \n",
       "Y03201  WALDRON HEALTH CENTRE      STANLEY STREET              \n",
       "Y03211  31 WARDOUR STREET                                      \n",
       "Y03243  CHINGWAY MEDICAL CENTRE    7 CHING WAY                 \n",
       "Y03245  OLIVER RD CLINIC           75 OLIVER ROAD              \n",
       "Y03259  394 SHOOTERS HILL ROAD                                 \n",
       "\n",
       "                         Address3                   Address4  Postcode  \n",
       "E83003  WHETSTONE                  LONDON                     N20 0DH   \n",
       "E83005  FINCHLEY                   LONDON                     N3 2JP    \n",
       "E83006  LONDON                                                NW2 1HS   \n",
       "E83007  FINCHLEY                   LONDON                     N3 2AU    \n",
       "E83008  HAMPSTEAD GARDENS SUBURB   LONDON                     N2 0EQ    \n",
       "...                           ...                        ...       ...  \n",
       "Y03201                             LONDON                     SE8 4BG   \n",
       "Y03211  SOHO                       LONDON                     W1D 6PT   \n",
       "Y03243  CHINGFORD                  LONDON                     E4 8YD    \n",
       "Y03245  LEYTON                     LONDON                     E10 5LG   \n",
       "Y03259  WOOLWICH                   LONDON                     SE18 4LP  \n",
       "\n",
       "[988 rows x 7 columns]"
      ]
     },
     "execution_count": 51,
     "metadata": {},
     "output_type": "execute_result"
    }
   ],
   "source": [
    "jan_2011_prac_london"
   ]
  },
  {
   "cell_type": "code",
   "execution_count": 52,
   "metadata": {},
   "outputs": [],
   "source": [
    "jan_2011_pres_london = jan_2011_pres[jan_2011_pres['PRACTICE'].isin(list(jan_2011_prac_london.index))]"
   ]
  },
  {
   "cell_type": "code",
   "execution_count": 53,
   "metadata": {},
   "outputs": [],
   "source": [
    "jan_2011_pres_london_antidepressants = jan_2011_pres_london[jan_2011_pres_london['BNF CODE'].str.startswith('0403', na=False)]"
   ]
  },
  {
   "cell_type": "code",
   "execution_count": 54,
   "metadata": {},
   "outputs": [
    {
     "data": {
      "text/html": [
       "<div>\n",
       "<style scoped>\n",
       "    .dataframe tbody tr th:only-of-type {\n",
       "        vertical-align: middle;\n",
       "    }\n",
       "\n",
       "    .dataframe tbody tr th {\n",
       "        vertical-align: top;\n",
       "    }\n",
       "\n",
       "    .dataframe thead th {\n",
       "        text-align: right;\n",
       "    }\n",
       "</style>\n",
       "<table border=\"1\" class=\"dataframe\">\n",
       "  <thead>\n",
       "    <tr style=\"text-align: right;\">\n",
       "      <th></th>\n",
       "      <th>SHA</th>\n",
       "      <th>PCT</th>\n",
       "      <th>PRACTICE</th>\n",
       "      <th>BNF CODE</th>\n",
       "      <th>BNF NAME</th>\n",
       "      <th>ITEMS</th>\n",
       "      <th>NIC</th>\n",
       "      <th>ACT COST</th>\n",
       "      <th>QUANTITY</th>\n",
       "      <th>PERIOD</th>\n",
       "      <th></th>\n",
       "    </tr>\n",
       "  </thead>\n",
       "  <tbody>\n",
       "    <tr>\n",
       "      <th>6162033</th>\n",
       "      <td>Q36</td>\n",
       "      <td>5A7</td>\n",
       "      <td>G84022</td>\n",
       "      <td>0403010B0AAAGAG</td>\n",
       "      <td>Amitriptyline HCl_Tab 10mg</td>\n",
       "      <td>26</td>\n",
       "      <td>35.55</td>\n",
       "      <td>33.56</td>\n",
       "      <td>1037</td>\n",
       "      <td>201101</td>\n",
       "      <td></td>\n",
       "    </tr>\n",
       "    <tr>\n",
       "      <th>6162034</th>\n",
       "      <td>Q36</td>\n",
       "      <td>5A7</td>\n",
       "      <td>G84022</td>\n",
       "      <td>0403010B0AAAHAH</td>\n",
       "      <td>Amitriptyline HCl_Tab 25mg</td>\n",
       "      <td>10</td>\n",
       "      <td>18.66</td>\n",
       "      <td>17.50</td>\n",
       "      <td>568</td>\n",
       "      <td>201101</td>\n",
       "      <td></td>\n",
       "    </tr>\n",
       "    <tr>\n",
       "      <th>6162035</th>\n",
       "      <td>Q36</td>\n",
       "      <td>5A7</td>\n",
       "      <td>G84022</td>\n",
       "      <td>0403010B0AAAIAI</td>\n",
       "      <td>Amitriptyline HCl_Tab 50mg</td>\n",
       "      <td>3</td>\n",
       "      <td>5.05</td>\n",
       "      <td>4.74</td>\n",
       "      <td>140</td>\n",
       "      <td>201101</td>\n",
       "      <td></td>\n",
       "    </tr>\n",
       "    <tr>\n",
       "      <th>6162036</th>\n",
       "      <td>Q36</td>\n",
       "      <td>5A7</td>\n",
       "      <td>G84022</td>\n",
       "      <td>0403010F0AAACAC</td>\n",
       "      <td>Clomipramine HCl_Cap 50mg</td>\n",
       "      <td>3</td>\n",
       "      <td>21.04</td>\n",
       "      <td>19.47</td>\n",
       "      <td>224</td>\n",
       "      <td>201101</td>\n",
       "      <td></td>\n",
       "    </tr>\n",
       "    <tr>\n",
       "      <th>6162037</th>\n",
       "      <td>Q36</td>\n",
       "      <td>5A7</td>\n",
       "      <td>G84022</td>\n",
       "      <td>0403010J0AAAAAA</td>\n",
       "      <td>Dosulepin HCl_Cap 25mg</td>\n",
       "      <td>1</td>\n",
       "      <td>1.03</td>\n",
       "      <td>0.98</td>\n",
       "      <td>28</td>\n",
       "      <td>201101</td>\n",
       "      <td></td>\n",
       "    </tr>\n",
       "    <tr>\n",
       "      <th>...</th>\n",
       "      <td>...</td>\n",
       "      <td>...</td>\n",
       "      <td>...</td>\n",
       "      <td>...</td>\n",
       "      <td>...</td>\n",
       "      <td>...</td>\n",
       "      <td>...</td>\n",
       "      <td>...</td>\n",
       "      <td>...</td>\n",
       "      <td>...</td>\n",
       "      <td>...</td>\n",
       "    </tr>\n",
       "    <tr>\n",
       "      <th>7429721</th>\n",
       "      <td>Q36</td>\n",
       "      <td>5ZX</td>\n",
       "      <td>G83018</td>\n",
       "      <td>0403040X0AAALAL</td>\n",
       "      <td>Mirtazapine_Orodisper Tab 15mg</td>\n",
       "      <td>1</td>\n",
       "      <td>2.73</td>\n",
       "      <td>2.55</td>\n",
       "      <td>30</td>\n",
       "      <td>201101</td>\n",
       "      <td></td>\n",
       "    </tr>\n",
       "    <tr>\n",
       "      <th>7429722</th>\n",
       "      <td>Q36</td>\n",
       "      <td>5ZX</td>\n",
       "      <td>G83018</td>\n",
       "      <td>0403040X0AAANAN</td>\n",
       "      <td>Mirtazapine_Tab 15mg</td>\n",
       "      <td>15</td>\n",
       "      <td>30.48</td>\n",
       "      <td>28.55</td>\n",
       "      <td>280</td>\n",
       "      <td>201101</td>\n",
       "      <td></td>\n",
       "    </tr>\n",
       "    <tr>\n",
       "      <th>7429723</th>\n",
       "      <td>Q36</td>\n",
       "      <td>5ZX</td>\n",
       "      <td>G83018</td>\n",
       "      <td>0403040X0AAAPAP</td>\n",
       "      <td>Mirtazapine_Tab 45mg</td>\n",
       "      <td>7</td>\n",
       "      <td>13.70</td>\n",
       "      <td>12.84</td>\n",
       "      <td>112</td>\n",
       "      <td>201101</td>\n",
       "      <td></td>\n",
       "    </tr>\n",
       "    <tr>\n",
       "      <th>7429724</th>\n",
       "      <td>Q36</td>\n",
       "      <td>5ZX</td>\n",
       "      <td>G83018</td>\n",
       "      <td>0403040Y0AAAAAA</td>\n",
       "      <td>Duloxetine HCl_Cap G/R 30mg</td>\n",
       "      <td>2</td>\n",
       "      <td>67.20</td>\n",
       "      <td>61.92</td>\n",
       "      <td>84</td>\n",
       "      <td>201101</td>\n",
       "      <td></td>\n",
       "    </tr>\n",
       "    <tr>\n",
       "      <th>7429725</th>\n",
       "      <td>Q36</td>\n",
       "      <td>5ZX</td>\n",
       "      <td>G83018</td>\n",
       "      <td>0403040Y0AAABAB</td>\n",
       "      <td>Duloxetine HCl_Cap G/R 60mg</td>\n",
       "      <td>1</td>\n",
       "      <td>55.44</td>\n",
       "      <td>51.07</td>\n",
       "      <td>56</td>\n",
       "      <td>201101</td>\n",
       "      <td></td>\n",
       "    </tr>\n",
       "  </tbody>\n",
       "</table>\n",
       "<p>24222 rows × 11 columns</p>\n",
       "</div>"
      ],
      "text/plain": [
       "         SHA  PCT PRACTICE         BNF CODE  \\\n",
       "6162033  Q36  5A7   G84022  0403010B0AAAGAG   \n",
       "6162034  Q36  5A7   G84022  0403010B0AAAHAH   \n",
       "6162035  Q36  5A7   G84022  0403010B0AAAIAI   \n",
       "6162036  Q36  5A7   G84022  0403010F0AAACAC   \n",
       "6162037  Q36  5A7   G84022  0403010J0AAAAAA   \n",
       "...      ...  ...      ...              ...   \n",
       "7429721  Q36  5ZX   G83018  0403040X0AAALAL   \n",
       "7429722  Q36  5ZX   G83018  0403040X0AAANAN   \n",
       "7429723  Q36  5ZX   G83018  0403040X0AAAPAP   \n",
       "7429724  Q36  5ZX   G83018  0403040Y0AAAAAA   \n",
       "7429725  Q36  5ZX   G83018  0403040Y0AAABAB   \n",
       "\n",
       "        BNF NAME                                      ITEMS    NIC          \\\n",
       "6162033     Amitriptyline HCl_Tab 10mg                     26        35.55   \n",
       "6162034     Amitriptyline HCl_Tab 25mg                     10        18.66   \n",
       "6162035     Amitriptyline HCl_Tab 50mg                      3         5.05   \n",
       "6162036     Clomipramine HCl_Cap 50mg                       3        21.04   \n",
       "6162037     Dosulepin HCl_Cap 25mg                          1         1.03   \n",
       "...                                              ...      ...          ...   \n",
       "7429721     Mirtazapine_Orodisper Tab 15mg                  1         2.73   \n",
       "7429722     Mirtazapine_Tab 15mg                           15        30.48   \n",
       "7429723     Mirtazapine_Tab 45mg                            7        13.70   \n",
       "7429724     Duloxetine HCl_Cap G/R 30mg                     2        67.20   \n",
       "7429725     Duloxetine HCl_Cap G/R 60mg                     1        55.44   \n",
       "\n",
       "         ACT COST     QUANTITY  PERIOD                      \n",
       "6162033        33.56      1037  201101                      \n",
       "6162034        17.50       568  201101                      \n",
       "6162035         4.74       140  201101                      \n",
       "6162036        19.47       224  201101                      \n",
       "6162037         0.98        28  201101                      \n",
       "...              ...       ...     ...                 ...  \n",
       "7429721         2.55        30  201101                      \n",
       "7429722        28.55       280  201101                      \n",
       "7429723        12.84       112  201101                      \n",
       "7429724        61.92        84  201101                      \n",
       "7429725        51.07        56  201101                      \n",
       "\n",
       "[24222 rows x 11 columns]"
      ]
     },
     "execution_count": 54,
     "metadata": {},
     "output_type": "execute_result"
    }
   ],
   "source": [
    "jan_2011_pres_london_antidepressants"
   ]
  },
  {
   "cell_type": "code",
   "execution_count": 4,
   "metadata": {},
   "outputs": [],
   "source": [
    "full_postalcode_info = pd.read_csv('C:/users/muize/Downloads/london_postcodes-ons-postcodes-directory-feb22.csv')"
   ]
  },
  {
   "cell_type": "code",
   "execution_count": 5,
   "metadata": {},
   "outputs": [],
   "source": [
    "full_postalcode_info['pcd'] = full_postalcode_info['pcd'].str.replace(' ', '')"
   ]
  },
  {
   "cell_type": "code",
   "execution_count": 80,
   "metadata": {},
   "outputs": [],
   "source": [
    "jan_2011_prac['Postcode'] = jan_2011_prac['Postcode'].str.replace(' ', '')"
   ]
  },
  {
   "cell_type": "code",
   "execution_count": 82,
   "metadata": {},
   "outputs": [],
   "source": [
    "jan_2011_prac_london = jan_2011_prac[jan_2011_prac['Postcode'].isin(list(full_postalcode_info['pcd']))]"
   ]
  },
  {
   "cell_type": "code",
   "execution_count": 83,
   "metadata": {},
   "outputs": [
    {
     "data": {
      "text/html": [
       "<div>\n",
       "<style scoped>\n",
       "    .dataframe tbody tr th:only-of-type {\n",
       "        vertical-align: middle;\n",
       "    }\n",
       "\n",
       "    .dataframe tbody tr th {\n",
       "        vertical-align: top;\n",
       "    }\n",
       "\n",
       "    .dataframe thead th {\n",
       "        text-align: right;\n",
       "    }\n",
       "</style>\n",
       "<table border=\"1\" class=\"dataframe\">\n",
       "  <thead>\n",
       "    <tr style=\"text-align: right;\">\n",
       "      <th></th>\n",
       "      <th>PERIOD</th>\n",
       "      <th>PracticeName</th>\n",
       "      <th>Address1</th>\n",
       "      <th>Address2</th>\n",
       "      <th>Address3</th>\n",
       "      <th>Address4</th>\n",
       "      <th>Postcode</th>\n",
       "    </tr>\n",
       "  </thead>\n",
       "  <tbody>\n",
       "    <tr>\n",
       "      <th>A81005</th>\n",
       "      <td>201101</td>\n",
       "      <td>SPRINGWOOD SURGERY</td>\n",
       "      <td>SPRINGWOOD SURGERY</td>\n",
       "      <td>RECTORY LANE</td>\n",
       "      <td>GUISBOROUGH</td>\n",
       "      <td></td>\n",
       "      <td>DA83DB</td>\n",
       "    </tr>\n",
       "    <tr>\n",
       "      <th>A81012</th>\n",
       "      <td>201101</td>\n",
       "      <td>WESTBOURNE MEDICAL CENTRE</td>\n",
       "      <td>WESTBOURNE MEDICAL CENTRE</td>\n",
       "      <td>7 TRINITY MEWS N. ORMESBY</td>\n",
       "      <td>MIDDLESBROUGH</td>\n",
       "      <td></td>\n",
       "      <td>SE84BG</td>\n",
       "    </tr>\n",
       "    <tr>\n",
       "      <th>A81015</th>\n",
       "      <td>201101</td>\n",
       "      <td>LAGAN SURGERY</td>\n",
       "      <td>LAGAN SURGERY</td>\n",
       "      <td>20 KIRKLEATHAM STREET</td>\n",
       "      <td>REDCAR</td>\n",
       "      <td>CLEVELAND</td>\n",
       "      <td>W1D6PT</td>\n",
       "    </tr>\n",
       "    <tr>\n",
       "      <th>A81017</th>\n",
       "      <td>201101</td>\n",
       "      <td>WOODBRIDGE PRACTICE</td>\n",
       "      <td>THE HEALTH CENTRE</td>\n",
       "      <td>TRENCHARD AVE  THORNABY</td>\n",
       "      <td>STOCKTON ON TEES</td>\n",
       "      <td>CLEVELAND</td>\n",
       "      <td>TW110JL</td>\n",
       "    </tr>\n",
       "    <tr>\n",
       "      <th>A81019</th>\n",
       "      <td>201101</td>\n",
       "      <td>CROSSFELL HEALTH CENTRE</td>\n",
       "      <td>CROSSFELL HEALTH CENTRE</td>\n",
       "      <td>CROSSFELL ROAD</td>\n",
       "      <td>MIDDLESBROUGH</td>\n",
       "      <td></td>\n",
       "      <td>HA29DX</td>\n",
       "    </tr>\n",
       "    <tr>\n",
       "      <th>...</th>\n",
       "      <td>...</td>\n",
       "      <td>...</td>\n",
       "      <td>...</td>\n",
       "      <td>...</td>\n",
       "      <td>...</td>\n",
       "      <td>...</td>\n",
       "      <td>...</td>\n",
       "    </tr>\n",
       "    <tr>\n",
       "      <th>Y03243</th>\n",
       "      <td>201101</td>\n",
       "      <td>CSS GYNAECOLOGY SERVICE</td>\n",
       "      <td>CHINGWAY MEDICAL CENTRE</td>\n",
       "      <td>7 CHING WAY</td>\n",
       "      <td>CHINGFORD</td>\n",
       "      <td>LONDON</td>\n",
       "      <td>E48YD</td>\n",
       "    </tr>\n",
       "    <tr>\n",
       "      <th>Y03244</th>\n",
       "      <td>201101</td>\n",
       "      <td>CSS DERMATOLOGY SERVICE</td>\n",
       "      <td>SILVERTHORNE MEDICAL CTR</td>\n",
       "      <td>2 FRIARS CLOSE</td>\n",
       "      <td>LARKSHALL ROAD  CHINGFORD</td>\n",
       "      <td></td>\n",
       "      <td>E46UN</td>\n",
       "    </tr>\n",
       "    <tr>\n",
       "      <th>Y03245</th>\n",
       "      <td>201101</td>\n",
       "      <td>CSS ENT SERVICE 1</td>\n",
       "      <td>OLIVER RD CLINIC</td>\n",
       "      <td>75 OLIVER ROAD</td>\n",
       "      <td>LEYTON</td>\n",
       "      <td>LONDON</td>\n",
       "      <td>E105LG</td>\n",
       "    </tr>\n",
       "    <tr>\n",
       "      <th>Y03246</th>\n",
       "      <td>201101</td>\n",
       "      <td>CSS ENT SERVICE 2</td>\n",
       "      <td>SILVERTHORNE MEDICAL CTR</td>\n",
       "      <td>2 FRIARS CLOSE</td>\n",
       "      <td>LARKSHALL ROAD</td>\n",
       "      <td>CHINGFORD</td>\n",
       "      <td>E46UN</td>\n",
       "    </tr>\n",
       "    <tr>\n",
       "      <th>Y03259</th>\n",
       "      <td>201101</td>\n",
       "      <td>GRABADOC OOH</td>\n",
       "      <td>394 SHOOTERS HILL ROAD</td>\n",
       "      <td></td>\n",
       "      <td>WOOLWICH</td>\n",
       "      <td>LONDON</td>\n",
       "      <td>SE184LP</td>\n",
       "    </tr>\n",
       "  </tbody>\n",
       "</table>\n",
       "<p>1812 rows × 7 columns</p>\n",
       "</div>"
      ],
      "text/plain": [
       "        PERIOD                              PracticeName  \\\n",
       "A81005  201101  SPRINGWOOD SURGERY                         \n",
       "A81012  201101  WESTBOURNE MEDICAL CENTRE                  \n",
       "A81015  201101  LAGAN SURGERY                              \n",
       "A81017  201101  WOODBRIDGE PRACTICE                        \n",
       "A81019  201101  CROSSFELL HEALTH CENTRE                    \n",
       "...        ...                                       ...   \n",
       "Y03243  201101  CSS GYNAECOLOGY SERVICE                    \n",
       "Y03244  201101  CSS DERMATOLOGY SERVICE                    \n",
       "Y03245  201101  CSS ENT SERVICE 1                          \n",
       "Y03246  201101  CSS ENT SERVICE 2                          \n",
       "Y03259  201101  GRABADOC OOH                               \n",
       "\n",
       "                         Address1                   Address2  \\\n",
       "A81005  SPRINGWOOD SURGERY         RECTORY LANE                \n",
       "A81012  WESTBOURNE MEDICAL CENTRE  7 TRINITY MEWS N. ORMESBY   \n",
       "A81015  LAGAN SURGERY              20 KIRKLEATHAM STREET       \n",
       "A81017  THE HEALTH CENTRE          TRENCHARD AVE  THORNABY     \n",
       "A81019  CROSSFELL HEALTH CENTRE    CROSSFELL ROAD              \n",
       "...                           ...                        ...   \n",
       "Y03243  CHINGWAY MEDICAL CENTRE    7 CHING WAY                 \n",
       "Y03244  SILVERTHORNE MEDICAL CTR   2 FRIARS CLOSE              \n",
       "Y03245  OLIVER RD CLINIC           75 OLIVER ROAD              \n",
       "Y03246  SILVERTHORNE MEDICAL CTR   2 FRIARS CLOSE              \n",
       "Y03259  394 SHOOTERS HILL ROAD                                 \n",
       "\n",
       "                         Address3                   Address4 Postcode  \n",
       "A81005  GUISBOROUGH                                            DA83DB  \n",
       "A81012  MIDDLESBROUGH                                          SE84BG  \n",
       "A81015  REDCAR                     CLEVELAND                   W1D6PT  \n",
       "A81017  STOCKTON ON TEES           CLEVELAND                  TW110JL  \n",
       "A81019  MIDDLESBROUGH                                          HA29DX  \n",
       "...                           ...                        ...      ...  \n",
       "Y03243  CHINGFORD                  LONDON                       E48YD  \n",
       "Y03244  LARKSHALL ROAD  CHINGFORD                               E46UN  \n",
       "Y03245  LEYTON                     LONDON                      E105LG  \n",
       "Y03246  LARKSHALL ROAD             CHINGFORD                    E46UN  \n",
       "Y03259  WOOLWICH                   LONDON                     SE184LP  \n",
       "\n",
       "[1812 rows x 7 columns]"
      ]
     },
     "execution_count": 83,
     "metadata": {},
     "output_type": "execute_result"
    }
   ],
   "source": [
    "jan_2011_prac_london"
   ]
  },
  {
   "cell_type": "code",
   "execution_count": 15,
   "metadata": {},
   "outputs": [],
   "source": [
    "def zip_to_csv(zip_path, pres_csv_path, prac_csv_path, save_path, full_postalcode_info, extra_column=False):\n",
    "    column_names = [\"PERIOD\", \"PracticeName\", \"Address1\",\n",
    "        \"Address2\", \"Address3\", \"Address4\", \"Postcode\", \"0\"]\n",
    "    if extra_column:\n",
    "        column_names = [\"PERIOD\", \"PracticeName\", \"Address1\",\n",
    "            \"Address2\", \"Address3\", \"Address4\", \"Address5\", \"Postcode\", \"0\"]\n",
    "    archive = zipfile.ZipFile(zip_path, 'r')\n",
    "    pres_csv = pd.read_csv(archive.open(pres_csv_path))\n",
    "    prac_csv = pd.read_csv(archive.open(prac_csv_path), names=column_names, index_col=1).drop(['0'], axis=1)\n",
    "    prac_csv['Postcode'] = prac_csv['Postcode'].str.replace(' ', '')\n",
    "    prac_csv.to_csv('prac_test.csv')\n",
    "    prac_london = prac_csv[prac_csv['Postcode'].isin(list(full_postalcode_info['pcd']))]\n",
    "    pres_london = pres_csv[pres_csv['PRACTICE'].isin(list(prac_london.index))]\n",
    "    pres_london = pres_london.merge(prac_london['Postcode'], how='left', left_on='PRACTICE', right_index=True)\n",
    "    pres_london_antidepressants = pres_london[pres_london['BNF CODE'].str.startswith('0403', na=False)]\n",
    "    pres_london_antidepressants.to_csv(save_path)"
   ]
  },
  {
   "cell_type": "code",
   "execution_count": 16,
   "metadata": {},
   "outputs": [],
   "source": [
    "zip_to_csv('C:/users/muize/Downloads/2011 01 Jan.zip', 'T201101PDPI BNFT.CSV', 'T201101ADDR BNFT.CSV', \n",
    "    'prescriptions/2011/jan2011_antidepressants.csv', full_postalcode_info)"
   ]
  },
  {
   "cell_type": "code",
   "execution_count": 88,
   "metadata": {},
   "outputs": [],
   "source": [
    "zip_to_csv('C:/users/muize/Downloads/2011 02 Feb.zip', 'T201102PDPI BNFT.CSV', 'T201102ADDR BNFT.CSV', \n",
    "    'prescriptions/2011/feb2011_antidepressants.csv', full_postalcode_info)"
   ]
  },
  {
   "cell_type": "code",
   "execution_count": 89,
   "metadata": {},
   "outputs": [],
   "source": [
    "zip_to_csv('C:/users/muize/Downloads/2011 03 Mar.zip', 'T201103PDPI BNFT.CSV', 'T201103ADDR BNFT.CSV', \n",
    "    'prescriptions/2011/mar2011_antidepressants.csv', full_postalcode_info)"
   ]
  },
  {
   "cell_type": "code",
   "execution_count": 36,
   "metadata": {},
   "outputs": [],
   "source": [
    "zip_to_csv('C:/users/muize/Downloads/2011 04 Apr.zip', 'T201104PDPI BNFT.CSV', 'T201104ADDR BNFT.CSV', \n",
    "    'prescriptions/2011/apr2011_antidepressants.csv', full_postalcode_info)"
   ]
  },
  {
   "cell_type": "code",
   "execution_count": 90,
   "metadata": {},
   "outputs": [],
   "source": [
    "zip_to_csv('C:/users/muize/Downloads/2011 05 May.zip', 'T201105PDPI BNFT.CSV', 'T201105ADDR BNFT.CSV', \n",
    "    'prescriptions/2011/may2011_antidepressants.csv', full_postalcode_info)"
   ]
  },
  {
   "cell_type": "code",
   "execution_count": 91,
   "metadata": {},
   "outputs": [],
   "source": [
    "zip_to_csv('C:/users/muize/Downloads/2011 06 Jun.zip', 'T201106PDPI BNFT.CSV', 'T201106ADDR BNFT.CSV', \n",
    "    'prescriptions/2011/jun2011_antidepressants.csv', full_postalcode_info)"
   ]
  },
  {
   "cell_type": "code",
   "execution_count": 92,
   "metadata": {},
   "outputs": [],
   "source": [
    "zip_to_csv('C:/users/muize/Downloads/2011 07 Jul.zip', 'T201107PDPI BNFT.CSV', 'T201107ADDR BNFT.CSV', \n",
    "    'prescriptions/2011/jul2011_antidepressants.csv', full_postalcode_info)"
   ]
  },
  {
   "cell_type": "code",
   "execution_count": 93,
   "metadata": {},
   "outputs": [],
   "source": [
    "zip_to_csv('C:/users/muize/Downloads/2011 08 Aug.zip', 'T201108PDPI BNFT.CSV', 'T201108ADDR BNFT.CSV', \n",
    "    'prescriptions/2011/aug2011_antidepressants.csv', full_postalcode_info)"
   ]
  },
  {
   "cell_type": "code",
   "execution_count": 94,
   "metadata": {},
   "outputs": [],
   "source": [
    "zip_to_csv('C:/users/muize/Downloads/2011 09 Sep.zip', 'T201109PDPI BNFT.CSV', 'T201109ADDR BNFT.CSV', \n",
    "    'prescriptions/2011/sep2011_antidepressants.csv', full_postalcode_info)"
   ]
  },
  {
   "cell_type": "code",
   "execution_count": 96,
   "metadata": {},
   "outputs": [],
   "source": [
    "zip_to_csv('C:/users/muize/Downloads/2011 10 Oct.zip', 'T201110PDPI BNFT.CSV', 'T201110ADDR BNFT.CSV', \n",
    "    'prescriptions/2011/oct2011_antidepressants.csv', full_postalcode_info)"
   ]
  },
  {
   "cell_type": "code",
   "execution_count": 97,
   "metadata": {},
   "outputs": [],
   "source": [
    "zip_to_csv('C:/users/muize/Downloads/2011 11 Nov.zip', 'T201111PDPI BNFT.CSV', 'T201111ADDR BNFT.CSV', \n",
    "    'prescriptions/2011/nov2011_antidepressants.csv', full_postalcode_info)"
   ]
  },
  {
   "cell_type": "code",
   "execution_count": 98,
   "metadata": {},
   "outputs": [],
   "source": [
    "zip_to_csv('C:/users/muize/Downloads/2011 12 Dec.zip', 'T201112PDPI BNFT.CSV', 'T201112ADDR BNFT.CSV', \n",
    "    'prescriptions/2011/dec2011_antidepressants.csv', full_postalcode_info)"
   ]
  },
  {
   "cell_type": "code",
   "execution_count": 99,
   "metadata": {},
   "outputs": [],
   "source": [
    "zip_to_csv('C:/users/muize/Downloads/2012 01 Jan.zip', 'T201201PDPI BNFT.CSV', 'T201201ADDR BNFT.CSV', \n",
    "    'prescriptions/2012/jan2012_antidepressants.csv', full_postalcode_info)"
   ]
  },
  {
   "cell_type": "code",
   "execution_count": 100,
   "metadata": {},
   "outputs": [],
   "source": [
    "zip_to_csv('C:/users/muize/Downloads/2012 02 Feb.zip', 'T201202PDPI BNFT.CSV', 'T201202ADDR BNFT.CSV', \n",
    "    'prescriptions/2012/feb2012_antidepressants.csv', full_postalcode_info)"
   ]
  },
  {
   "cell_type": "code",
   "execution_count": 101,
   "metadata": {},
   "outputs": [],
   "source": [
    "zip_to_csv('C:/users/muize/Downloads/2012 03 Mar.zip', 'T201203PDPI BNFT.CSV', 'T201203ADDR BNFT.CSv', \n",
    "    'prescriptions/2012/mar2012_antidepressants.csv', full_postalcode_info)"
   ]
  },
  {
   "cell_type": "code",
   "execution_count": 102,
   "metadata": {},
   "outputs": [],
   "source": [
    "zip_to_csv('C:/users/muize/Downloads/2012 04 Apr.zip', 'T201204PDPI BNFT.CSV', 'T201204ADDR BNFT.CSV', \n",
    "    'prescriptions/2012/apr2012_antidepressants.csv', full_postalcode_info)"
   ]
  },
  {
   "cell_type": "code",
   "execution_count": 103,
   "metadata": {},
   "outputs": [],
   "source": [
    "zip_to_csv('C:/users/muize/Downloads/2012 05 May.zip', 'T201205PDPI BNFT.CSV', 'T201205ADDR BNFT.CSV', \n",
    "    'prescriptions/2012/may2012_antidepressants.csv', full_postalcode_info)"
   ]
  },
  {
   "cell_type": "code",
   "execution_count": 17,
   "metadata": {},
   "outputs": [],
   "source": [
    "zip_to_csv('C:/users/muize/Downloads/2014 06 June.zip', 'T201406PDPI BNFT.CSV', 'T201406ADDR BNFT.CSV', \n",
    "    'prescriptions/2012/jun2012_antidepressants.csv', full_postalcode_info, extra_column=True)"
   ]
  },
  {
   "cell_type": "code",
   "execution_count": 107,
   "metadata": {},
   "outputs": [],
   "source": [
    "zip_to_csv('C:/users/muize/Downloads/2012 07 Jul.zip', 'T201207PDPI BNFT.CSV', 'T201207ADDR BNFT.CSV', \n",
    "    'prescriptions/2012/jul2012_antidepressants.csv', full_postalcode_info)"
   ]
  },
  {
   "cell_type": "code",
   "execution_count": 18,
   "metadata": {},
   "outputs": [],
   "source": [
    "zip_to_csv('C:/users/muize/Downloads/2012 08 Aug.zip', 'T201208PDPI BNFT.CSV', 'T201208ADDR BNFT.CSV', \n",
    "    'prescriptions/2012/aug2012_antidepressants.csv', full_postalcode_info, extra_column=True)"
   ]
  },
  {
   "cell_type": "code",
   "execution_count": 19,
   "metadata": {},
   "outputs": [],
   "source": [
    "zip_to_csv('C:/users/muize/Downloads/2012 09 Sep.zip', 'T201209PDPI BNFT.CSV', 'T201209ADDR BNFT.CSV', \n",
    "    'prescriptions/2012/sep2012_antidepressants.csv', full_postalcode_info, extra_column=True)"
   ]
  },
  {
   "cell_type": "code",
   "execution_count": 20,
   "metadata": {},
   "outputs": [],
   "source": [
    "zip_to_csv('C:/users/muize/Downloads/2012 10 Oct.zip', 'T201210PDPI BNFT.CSV', 'T201210ADDR BNFT.CSV', \n",
    "    'prescriptions/2012/oct2012_antidepressants.csv', full_postalcode_info, extra_column=True)"
   ]
  },
  {
   "cell_type": "code",
   "execution_count": 21,
   "metadata": {},
   "outputs": [],
   "source": [
    "zip_to_csv('C:/users/muize/Downloads/2012 11 Nov.zip', 'T201211PDPI BNFT.CSV', 'T201211ADDR BNFT.CSV', \n",
    "    'prescriptions/2012/nov2012_antidepressants.csv', full_postalcode_info, extra_column=True)"
   ]
  },
  {
   "cell_type": "code",
   "execution_count": 22,
   "metadata": {},
   "outputs": [],
   "source": [
    "zip_to_csv('C:/users/muize/Downloads/2012 12 Dec.zip', 'T201212PDPI BNFT.CSV', 'T201212ADDR BNFT.CSV', \n",
    "    'prescriptions/2012/dec2012_antidepressants.csv', full_postalcode_info, extra_column=True)"
   ]
  },
  {
   "cell_type": "code",
   "execution_count": 24,
   "metadata": {},
   "outputs": [],
   "source": [
    "zip_to_csv('C:/users/muize/Downloads/2013 01 Jan.zip', 'T201301PDPI BNFT.CSV', 'T201301ADDR BNFT.CSV', \n",
    "    'prescriptions/2013/jan2013_antidepressants.csv', full_postalcode_info, extra_column=True)"
   ]
  },
  {
   "cell_type": "code",
   "execution_count": 23,
   "metadata": {},
   "outputs": [],
   "source": [
    "zip_to_csv('C:/users/muize/Downloads/2013 02 Feb.zip', 'T201302PDPI BNFT.CSV', 'T201302ADDR BNFT.CSV', \n",
    "    'prescriptions/2013/feb2013_antidepressants.csv', full_postalcode_info, extra_column=True)"
   ]
  },
  {
   "cell_type": "code",
   "execution_count": 25,
   "metadata": {},
   "outputs": [],
   "source": [
    "zip_to_csv('C:/users/muize/Downloads/2013 03 Mar.zip', 'T201303PDPI BNFT.csv', 'T201303ADDR BNFT.csv', \n",
    "    'prescriptions/2013/mar2013_antidepressants.csv', full_postalcode_info, extra_column=True)"
   ]
  },
  {
   "cell_type": "code",
   "execution_count": 26,
   "metadata": {},
   "outputs": [],
   "source": [
    "zip_to_csv('C:/users/muize/Downloads/2013 04 Apr.zip', 'T201304PDPI BNFT.CSV', 'T201304ADDR BNFT.CSV', \n",
    "    'prescriptions/2013/apr2013_antidepressants.csv', full_postalcode_info, extra_column=True)"
   ]
  },
  {
   "cell_type": "code",
   "execution_count": 27,
   "metadata": {},
   "outputs": [],
   "source": [
    "zip_to_csv('C:/users/muize/Downloads/2013 05 May.zip', 'T201305PDPI BNFT.CSV', 'T201305ADDR BNFT.CSV', \n",
    "    'prescriptions/2013/may2013_antidepressants.csv', full_postalcode_info, extra_column=True)"
   ]
  },
  {
   "cell_type": "code",
   "execution_count": 28,
   "metadata": {},
   "outputs": [],
   "source": [
    "zip_to_csv('C:/users/muize/Downloads/2013 06 June.zip', 'T201306PDPI BNFT.csv', 'T201306ADDR BNFT.csv', \n",
    "    'prescriptions/2013/jun2013_antidepressants.csv', full_postalcode_info, extra_column=True)"
   ]
  },
  {
   "cell_type": "code",
   "execution_count": 29,
   "metadata": {},
   "outputs": [],
   "source": [
    "zip_to_csv('C:/users/muize/Downloads/2013 07 July.zip', 'T201307PDPI BNFT.CSV', 'T201307ADDR BNFT.CSV', \n",
    "    'prescriptions/2013/jul2013_antidepressants.csv', full_postalcode_info, extra_column=True)"
   ]
  },
  {
   "cell_type": "code",
   "execution_count": 30,
   "metadata": {},
   "outputs": [],
   "source": [
    "zip_to_csv('C:/users/muize/Downloads/2013 08 August.zip', 'T201308PDPI BNFT.CSV', 'T201308ADDR BNFT.CSV', \n",
    "    'prescriptions/2013/aug2013_antidepressants.csv', full_postalcode_info, extra_column=True)"
   ]
  },
  {
   "cell_type": "code",
   "execution_count": 31,
   "metadata": {},
   "outputs": [],
   "source": [
    "zip_to_csv('C:/users/muize/Downloads/2013 09 Sep.zip', 'T201309PDPI BNFT.csv', 'T201309ADDR BNFT.csv', \n",
    "    'prescriptions/2013/sep2013_antidepressants.csv', full_postalcode_info, extra_column=True)"
   ]
  },
  {
   "cell_type": "code",
   "execution_count": 32,
   "metadata": {},
   "outputs": [],
   "source": [
    "zip_to_csv('C:/users/muize/Downloads/2013 10 Oct.zip', 'T201310PDPI BNFT.CSV', 'T201310ADDR BNFT.CSV', \n",
    "    'prescriptions/2013/oct2013_antidepressants.csv', full_postalcode_info, extra_column=True)"
   ]
  },
  {
   "cell_type": "code",
   "execution_count": 33,
   "metadata": {},
   "outputs": [],
   "source": [
    "zip_to_csv('C:/users/muize/Downloads/2013 11 Nov.zip', 'T201311PDPI BNFT.CSV', 'T201311ADDR BNFT.CSV', \n",
    "    'prescriptions/2013/nov2013_antidepressants.csv', full_postalcode_info, extra_column=True)"
   ]
  },
  {
   "cell_type": "code",
   "execution_count": 34,
   "metadata": {},
   "outputs": [],
   "source": [
    "zip_to_csv('C:/users/muize/Downloads/2013 12 Dec.zip', 'T201312PDPI BNFT.CSV', 'T201312ADDR BNFT.CSV', \n",
    "    'prescriptions/2013/dec2013_antidepressants.csv', full_postalcode_info, extra_column=True)"
   ]
  },
  {
   "cell_type": "code",
   "execution_count": 35,
   "metadata": {},
   "outputs": [],
   "source": [
    "import os\n",
    "import glob\n",
    "import pandas as pd\n"
   ]
  },
  {
   "cell_type": "code",
   "execution_count": 36,
   "metadata": {},
   "outputs": [],
   "source": [
    "extension = 'csv'\n",
    "all_filenames = [i for i in glob.glob('prescriptions/2011/*.{}'.format(extension))]\n",
    "#combine all files in the list\n",
    "combined_csv = pd.concat([pd.read_csv(f) for f in all_filenames ])\n",
    "#export to csv\n",
    "combined_csv.to_csv( \"prescriptions/2011/2011.csv\", index=False, encoding='utf-8-sig')"
   ]
  },
  {
   "cell_type": "code",
   "execution_count": 37,
   "metadata": {},
   "outputs": [],
   "source": [
    "extension = 'csv'\n",
    "all_filenames = [i for i in glob.glob('prescriptions/2012/*.{}'.format(extension))]\n",
    "#combine all files in the list\n",
    "combined_csv = pd.concat([pd.read_csv(f) for f in all_filenames ])\n",
    "#export to csv\n",
    "combined_csv.to_csv( \"prescriptions/2012/2012.csv\", index=False, encoding='utf-8-sig')"
   ]
  },
  {
   "cell_type": "code",
   "execution_count": 38,
   "metadata": {},
   "outputs": [],
   "source": [
    "extension = 'csv'\n",
    "all_filenames = [i for i in glob.glob('prescriptions/2013/*.{}'.format(extension))]\n",
    "#combine all files in the list\n",
    "combined_csv = pd.concat([pd.read_csv(f) for f in all_filenames ])\n",
    "#export to csv\n",
    "combined_csv.to_csv( \"prescriptions/2013/2013.csv\", index=False, encoding='utf-8-sig')"
   ]
  }
 ],
 "metadata": {
  "kernelspec": {
   "display_name": "Python 3",
   "language": "python",
   "name": "python3"
  },
  "language_info": {
   "codemirror_mode": {
    "name": "ipython",
    "version": 3
   },
   "file_extension": ".py",
   "mimetype": "text/x-python",
   "name": "python",
   "nbconvert_exporter": "python",
   "pygments_lexer": "ipython3",
   "version": "3.10.4"
  },
  "orig_nbformat": 4,
  "vscode": {
   "interpreter": {
    "hash": "369f2c481f4da34e4445cda3fffd2e751bd1c4d706f27375911949ba6bb62e1c"
   }
  }
 },
 "nbformat": 4,
 "nbformat_minor": 2
}
